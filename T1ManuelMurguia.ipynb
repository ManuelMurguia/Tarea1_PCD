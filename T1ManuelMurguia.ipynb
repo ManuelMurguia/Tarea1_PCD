{
 "cells": [
  {
   "cell_type": "markdown",
   "id": "7abc32ea",
   "metadata": {},
   "source": [
    "<h1 style=\"text-align: center;\"> PROYECTO CIENCIA DE DATOS </h1>\n",
    "\n",
    "<img style = \"float: right; margin: 0px 0 px 15px 15px;\" src = \"https://oci02.img.iteso.mx/Identidades-De-Instancia/ITESO/Logos%20ITESO/Logo-ITESO-Principal.jpg\" width = \"450px\" height = \"400px\">\n",
    "\n",
    "- <strong> Nombre: </strong> Manuel Murguía\n",
    "- <strong> Expediente: </strong> 739360\n",
    "- <strong> Correo: </strong>  <font color = \"blue\"> manuel.murguia@iteso.mx </font>\n",
    "- <strong> Ciclo: </strong> Otoño 2023\n",
    "- <strong> Fecha: </strong> 21 de Agosto de 2023"
   ]
  },
  {
   "cell_type": "markdown",
   "id": "88351d9d",
   "metadata": {},
   "source": [
    "<h3 style = \"text-align: center;\">Tarea 1. Resumen de \"Why MLOps Is Vital To Your Development Team\" by Henrik Skogström </h3>\n"
   ]
  },
  {
   "cell_type": "markdown",
   "id": "f0b17c11",
   "metadata": {},
   "source": [
    "<p style = \"text-align: justify;\"> &nbsp &nbsp &nbsp Primero, empecemos por lo básico, ¿Qué son las MLOps? Las MLOps, son en esencia DevOps, pero diseñadas específicamente para la ciencia de datos y el machine learning. Si bien es cierto que las MLOps son muy similares a las DevOps, cabe recalcar que existe una diferencia abismal entre el software tradicional y el aprendizaje automático; esa diferencia radica en los datos. Mientras que el software tradicional basa su comportamiento completamente en el código, el aprendizaje automático lo hace mediante una combinación entre el código y los datos. Esta combinación entre datos y código hace que los procesos de aprendizajes automáticos suelan ser más tardados y tediosos. Las MLOps tienen como objetivo mejorar los modelos de machine learning mediante la combinación de los procesos de diseño, desarrollo, testeo y entrega en un mismo proceso.</p>\n",
    "\n",
    "<strong> Beneficio #1. MLOps evitan los cuellos de botella </strong>\n",
    "\n",
    "<p style = \"text-align: justify;\"> &nbsp &nbsp &nbsp Una de las mayores problemáticas dentro del desarrollo de inteligencias de aprendizaje automático son los cuellos de botella, especialmente cuando se trata de equipos enteros de personas trabajando en un mismo proyecto. Las MLOps sirven para evitar dichos cuellos de botella manteniendo las versiones documentadas y compartidas. Esto facilita el trabajo en equipo permitiendo ver el progreso hecho día a día. </p>\n",
    "\n",
    "<strong> Beneficio #2. MLOps previenen la fatiga </strong>\n",
    "\n",
    "<p style = \"text-align: justify;\"> &nbsp &nbsp &nbsp Cuando tus proyectos colaborativos no son terminados a tiempo o son detenidos por cuellos de botella innecesarios, puede ser frustante para los colaboradores. Además de remover los cuellos de botella, las MLOps previenen la fatiga de dos maneras distintas: </p> <br>\n",
    "        1. Permiten el trabajo remoto y efectivo <br>\n",
    "        2. Modifican el pensamiento por uno más centrado en el producto que en el mismo modelo.\n",
    "        \n",
    "<strong> Beneficio #3. MLOps implementa un escricto control de versiones </strong>\n",
    "\n",
    "<p style = \"text-align: justify;\"> &nbsp &nbsp &nbsp Las predicciones proporcionadas por un modelo deben ser explicables y uno de los componentes críticos es indicar cómo se entrenó el modelo. Esto incluye versionar tanto el código como los datos utilizados. Las MLOps permiten el versionar automáticamente todos los cambios hechos a los proyectos, protegiendote a ti como usuario de posibles pérdidas.</p>\n",
    "\n",
    "<br>\n",
    "\n",
    "En conclusión es importante invertir en tecnologías especializadas independientemente de la rama donde te encuentres, si bien es cierto que en un principio puede parecer complicado, los efectos de ignorar tales decisiones afectaran a largo plazo."
   ]
  }
 ],
 "metadata": {
  "kernelspec": {
   "display_name": "Python 3 (ipykernel)",
   "language": "python",
   "name": "python3"
  },
  "language_info": {
   "codemirror_mode": {
    "name": "ipython",
    "version": 3
   },
   "file_extension": ".py",
   "mimetype": "text/x-python",
   "name": "python",
   "nbconvert_exporter": "python",
   "pygments_lexer": "ipython3",
   "version": "3.10.10"
  }
 },
 "nbformat": 4,
 "nbformat_minor": 5
}
